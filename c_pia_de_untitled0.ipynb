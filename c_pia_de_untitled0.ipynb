{
  "nbformat": 4,
  "nbformat_minor": 0,
  "metadata": {
    "colab": {
      "provenance": [],
      "toc_visible": true,
      "authorship_tag": "ABX9TyPLP5xTQhMNQR3n9eXQrVeD",
      "include_colab_link": true
    },
    "kernelspec": {
      "name": "python3",
      "display_name": "Python 3"
    },
    "language_info": {
      "name": "python"
    }
  },
  "cells": [
    {
      "cell_type": "markdown",
      "metadata": {
        "id": "view-in-github",
        "colab_type": "text"
      },
      "source": [
        "<a href=\"https://colab.research.google.com/github/vitoriasilvaandrdade/Python/blob/main/c_pia_de_untitled0.ipynb\" target=\"_parent\"><img src=\"https://colab.research.google.com/assets/colab-badge.svg\" alt=\"Open In Colab\"/></a>"
      ]
    },
    {
      "cell_type": "markdown",
      "source": [
        "#**aula 1** 🇻 ⏰ ☣"
      ],
      "metadata": {
        "id": "iDamCPz3xbFW"
      }
    },
    {
      "cell_type": "code",
      "execution_count": null,
      "metadata": {
        "colab": {
          "base_uri": "https://localhost:8080/"
        },
        "id": "pEr4XjdZrMpp",
        "outputId": "3062ebf4-5fc0-4c23-cf69-c7122a7cb627"
      },
      "outputs": [
        {
          "output_type": "stream",
          "name": "stdout",
          "text": [
            "I competição de programação dá Start\n",
            "Ix competição de programação da Start\n",
            "Ix competição de programação da Start\n"
          ]
        }
      ],
      "source": [
        "print(\"I competição de programação dá Start\")\n",
        "ano = \"Ix\"\n",
        "print(ano, \"competição de programação da Start\")\n",
        "print(f\"{ano} competição de programação da Start\")"
      ]
    },
    {
      "cell_type": "markdown",
      "source": [
        "# **aula 2** ⚗ 💪 ✴"
      ],
      "metadata": {
        "id": "_7cMysUyxpDD"
      }
    },
    {
      "cell_type": "code",
      "source": [
        "livro_ficcao = 8\n",
        "livro_n_ficcao = 10\n",
        "livro_infantil = 6\n",
        "pontos_rodrigo = livro_ficcao + livro_n_ficcao + livro_infantil\n",
        "print(f\"Os pontos totais do Rodrigo são {pontos_rodrigo}\")"
      ],
      "metadata": {
        "colab": {
          "base_uri": "https://localhost:8080/"
        },
        "id": "zEp9pFWVsj8c",
        "outputId": "3009b574-a783-4855-d258-20abe2d0b929"
      },
      "execution_count": null,
      "outputs": [
        {
          "output_type": "stream",
          "name": "stdout",
          "text": [
            "Os pontos totais do Rodrigo são 24\n"
          ]
        }
      ]
    },
    {
      "cell_type": "markdown",
      "source": [
        "#**aula 3** ⏰ ❄ 💥"
      ],
      "metadata": {
        "id": "nLDrKKGRufBQ"
      }
    },
    {
      "cell_type": "code",
      "source": [
        "numero_de_alunos = int(input(\"Digite a quantidade de alunos: \"))\n",
        "numero_de_monitores = int(input(\"Digite a quantidade de monitores: \"))\n",
        "numero_de_professores = 8\n",
        "if numero_de_alunos + numero_de_monitores + numero_de_professores <= 50:\n",
        "  resposta_positiva = \"pode ir\"\n",
        "resposta_negativa = \"não pode ir\"\n",
        "if numero_de_alunos + numero_de_monitores + numero_de_professores <= 50:\n",
        " print(resposta_positiva)\n",
        "else:\n",
        " print(resposta_negativa)"
      ],
      "metadata": {
        "colab": {
          "base_uri": "https://localhost:8080/"
        },
        "id": "oPB90qIcwOgs",
        "outputId": "fdf45bbc-68f1-42c5-f793-1c0e879118c9"
      },
      "execution_count": null,
      "outputs": [
        {
          "output_type": "stream",
          "name": "stdout",
          "text": [
            "Digite a quantidade de alunos: 30\n",
            "Digite a quantidade de monitores: 10\n",
            "pode ir\n"
          ]
        }
      ]
    },
    {
      "cell_type": "markdown",
      "source": [
        "# **aula 4** ⚓ * ♣"
      ],
      "metadata": {
        "id": "ZSXLVijM0cGp"
      }
    },
    {
      "cell_type": "code",
      "source": [
        "P = int(input(\"Digite a posição da porta P (0 ou 1): \"))\n",
        "R = int(input(\"Digite a posição da porta R (0 ou 1): \"))\n",
        "if P == 0:\n",
        "    print(\"C\")\n",
        "elif R == 1:\n",
        "    print(\"A\")\n",
        "else:\n",
        "    print(\"B\")"
      ],
      "metadata": {
        "colab": {
          "base_uri": "https://localhost:8080/"
        },
        "id": "qI5wAXCk0jk9",
        "outputId": "fc07faa5-f6fa-430b-e003-1c619d9dd1e8"
      },
      "execution_count": null,
      "outputs": [
        {
          "output_type": "stream",
          "name": "stdout",
          "text": [
            "Digite a posição da porta P (0 ou 1): 1\n",
            "Digite a posição da porta R (0 ou 1): 0\n",
            "B\n"
          ]
        }
      ]
    },
    {
      "cell_type": "markdown",
      "source": [
        "# **aula 5** ⛏ 👽 💪 tabuada"
      ],
      "metadata": {
        "id": "xyMwInGq7DWa"
      }
    },
    {
      "cell_type": "code",
      "source": [
        "def tabuada(numero):\n",
        "    for contador in range(1, 11):  # Gera números de 1 a 10\n",
        "        print(f\"{numero} x {contador} = {numero * contador}\")\n",
        "numero = int(input(\"Digite um número para ver sua tabuada: \"))\n",
        "tabuada(numero)"
      ],
      "metadata": {
        "colab": {
          "base_uri": "https://localhost:8080/"
        },
        "id": "JNv_aIiI7OZc",
        "outputId": "ae750b6d-14ce-4cc4-95a8-682fc6a93417"
      },
      "execution_count": null,
      "outputs": [
        {
          "output_type": "stream",
          "name": "stdout",
          "text": [
            "Digite um número para ver sua tabuada: 6\n",
            "6 x 1 = 6\n",
            "6 x 2 = 12\n",
            "6 x 3 = 18\n",
            "6 x 4 = 24\n",
            "6 x 5 = 30\n",
            "6 x 6 = 36\n",
            "6 x 7 = 42\n",
            "6 x 8 = 48\n",
            "6 x 9 = 54\n",
            "6 x 10 = 60\n"
          ]
        }
      ]
    },
    {
      "cell_type": "markdown",
      "source": [
        "# aula 6 IMC"
      ],
      "metadata": {
        "id": "wDzqs7oZ84q9"
      }
    },
    {
      "cell_type": "code",
      "source": [
        "peso = float(input(\"Digite seu peso (em kg): \"))\n",
        "altura = float(input(\"Digite sua altura (em metros): \"))\n",
        "imc = peso / (altura ** 2)\n",
        "print(f\"\\nSeu IMC é: {imc:.2f}\")\n",
        "if imc < 18.5:\n",
        "    print(\"Você está abaixo do peso.\")\n",
        "elif 18.5 <= imc < 25:\n",
        "    print(\"Você está no peso ideal.\")\n",
        "elif 25 <= imc < 30:\n",
        "    print(\"Você está com sobrepeso.\")\n",
        "else:\n",
        "    print(\"Você está acima do peso.\")"
      ],
      "metadata": {
        "colab": {
          "base_uri": "https://localhost:8080/"
        },
        "id": "8JtVeRuF9Ew1",
        "outputId": "a27bde78-5725-4d63-eed2-68ccab55b52c"
      },
      "execution_count": null,
      "outputs": [
        {
          "output_type": "stream",
          "name": "stdout",
          "text": [
            "Digite seu peso (em kg): 51\n",
            "Digite sua altura (em metros): 158\n",
            "\n",
            "Seu IMC é: 0.00\n",
            "Você está abaixo do peso.\n"
          ]
        }
      ]
    },
    {
      "cell_type": "markdown",
      "source": [
        "# Aula 7"
      ],
      "metadata": {
        "id": "tyneOWTi0Ujg"
      }
    },
    {
      "cell_type": "code",
      "source": [
        "print(\" Sou assistente virtual, como posso ajudar? \\n\")\n",
        "nome = input(\" digite seu nome\")\n",
        "print(\"Olá,\" + nome +\". Qual é a sua dúvida hoje?\")\n"
      ],
      "metadata": {
        "id": "XLQFJYpz0jGO",
        "outputId": "cefa1ca3-080c-4acc-e593-f7154e391663",
        "colab": {
          "base_uri": "https://localhost:8080/"
        }
      },
      "execution_count": null,
      "outputs": [
        {
          "output_type": "stream",
          "name": "stdout",
          "text": [
            " Sou assistente virtual, como posso ajudar? \n",
            "\n",
            " digite seu nome Vitória \n",
            "Olá, Vitória . Qual é a sua dúvida hoje?\n"
          ]
        }
      ]
    },
    {
      "cell_type": "code",
      "source": [
        "print (\"Sou seu assistente virtual, como posso ajudar? \\n \")\n",
        "nome = input(\"digite seu nome: \")\n",
        "print(f\"Olá, {nome}. Qual é a sua dúvida hoje?\")\n",
        "resposta = input(\"Qual o assunto que deseja tratar: Matemática , Python , Javascript: \").lower()\n",
        "if resposta == \"python\":\n",
        " print(f\"Que bom, {nome}, vamos falar sobre Python. Python: é uma linguagem simples e poderosa, usada em ciência de dados, inteligência artificial e automação.\")\n",
        "elif resposta == \"javascript\":\n",
        " print(f\"Que bom, {nome}, vamos falar sobre Javascript. JavaScript: é a linguagem de programação que torna as páginas da web interativas e dinâmicas.\")\n",
        "else:\n",
        " print(f\"Que bom, {nome}, vamos falar sobre Matemática. Matemática: é a ciência que estuda números, formas e padrões, servindo de base para todas as outras ciências. \")\n"
      ],
      "metadata": {
        "id": "stZ7ATAO00Oe",
        "outputId": "de0e186d-2b3a-4cd7-9c6b-35a840e4fac5",
        "colab": {
          "base_uri": "https://localhost:8080/"
        }
      },
      "execution_count": 16,
      "outputs": [
        {
          "output_type": "stream",
          "name": "stdout",
          "text": [
            "Sou seu assistente virtual, como posso ajudar? \n",
            " \n",
            "digite seu nome:  raquel\n",
            "Olá,  raquel. Qual é a sua dúvida hoje?\n",
            "Qual o assunto que deseja tratar: Matemática , Python , Javascript:  matematica\n",
            "Que bom,  raquel, vamos falar sobre Matemática. Matemática: é a ciência que estuda números, formas e padrões, servindo de base para todas as outras ciências. \n"
          ]
        }
      ]
    },
    {
      "cell_type": "code",
      "source": [],
      "metadata": {
        "id": "Zs0KddzZ1l_B"
      },
      "execution_count": null,
      "outputs": []
    },
    {
      "cell_type": "markdown",
      "source": [
        "# **Aula 8** ⏰ ⚛ 🍬"
      ],
      "metadata": {
        "id": "aS_hQ7ddB6ph"
      }
    }
  ]
}